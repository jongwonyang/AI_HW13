{
  "cells": [
    {
      "cell_type": "markdown",
      "metadata": {
        "id": "YV0BaFtPtjJe"
      },
      "source": [
        "# Regularization and Gradient Descent Exercises\n",
        "![UnderOverFit.png](Assets/UnderOverFit.png)\n"
      ]
    },
    {
      "cell_type": "markdown",
      "metadata": {
        "id": "s-7jrpCJtjJn"
      },
      "source": [
        "# Learning Objectives\n",
        "\n",
        "- Explain cost functions, regularization, feature selection, and hyper-parameters\n",
        "- Summarize complex statistical optimization algorithms like gradient descent and its application to linear regression\n",
        "- Apply Intel® Extension for Scikit-learn* to leverage underlying compute capabilities of hardware\n",
        "\n",
        "# scikit-learn* \n",
        "\n",
        "Frameworks provide structure that Data Scientists use to build code. Frameworks are more than just libraries, because in addition to callable code, frameworks influence how code is written. \n",
        "\n",
        "A main virtue of using an optimized framework is that code runs faster. Code that runs faster is just generally more convenient but when we begin looking at applied data science and AI models, we can see more material benefits. Here you will see how optimization, particularly hyperparameter optimization can benefit more than just speed. \n",
        "\n",
        "These exercises will demonstrate how to apply **the Intel® Extension for Scikit-learn*,** a seamless way to speed up your Scikit-learn application. The acceleration is achieved through the use of the Intel® oneAPI Data Analytics Library (oneDAL). Patching is the term used to extend scikit-learn with Intel optimizations and makes it a well-suited machine learning framework for dealing with real-life problems. \n",
        "\n",
        "To get optimized versions of many Scikit-learn algorithms using a patch() approach consisting of adding these lines of code after importing sklearn: \n",
        "\n",
        "- **from sklearnex import patch_sklearn**\n",
        "- **patch_sklearn()**\n",
        "\n",
        "## This exercise relies on installation of  Intel® Extension for Scikit-learn*\n",
        "\n",
        "If you have not already done so, follow the instructions from Week 1 for instructions\n"
      ]
    },
    {
      "cell_type": "markdown",
      "metadata": {
        "id": "7aQKPPK2tjJo"
      },
      "source": [
        "## Introduction\n",
        "\n",
        "We will begin with a short tutorial on regression, polynomial features, and regularization based on a very simple, sparse data set that contains a column of `x` data and associated `y` noisy data. The data file is called `X_Y_Sinusoid_Data.csv`. "
      ]
    },
    {
      "cell_type": "code",
      "execution_count": 1,
      "metadata": {
        "ExecuteTime": {
          "end_time": "2021-09-24T17:38:25.023951Z",
          "start_time": "2021-09-24T17:38:22.534235Z"
        },
        "id": "GkmKtWEYtjJp"
      },
      "outputs": [],
      "source": [
        "from __future__ import print_function\n",
        "import os\n",
        "data_path = ['data/data3.csv']\n",
        "\n",
        "from sklearn.preprocessing import OneHotEncoder, LabelEncoder\n",
        "from sklearn.model_selection import train_test_split\n",
        "from sklearn.linear_model import LinearRegression\n",
        "from sklearn.metrics import mean_squared_error\n",
        "from sklearn.preprocessing import StandardScaler, MinMaxScaler, MaxAbsScaler\n",
        "from sklearn.preprocessing import PolynomialFeatures\n",
        "from sklearn.linear_model import LinearRegression\n",
        "from sklearn.linear_model import SGDRegressor\n",
        "from sklearn.metrics import mean_squared_error\n",
        "from sklearn.linear_model import LinearRegression\n",
        "from sklearn.model_selection import train_test_split\n",
        "from sklearn.linear_model import Ridge, Lasso\n",
        "from sklearn.linear_model import RidgeCV\n",
        "from sklearn.linear_model import LassoCV\n",
        "from sklearn.linear_model import ElasticNetCV\n",
        "from sklearn.linear_model import SGDRegressor\n",
        "from sklearn.preprocessing import MinMaxScaler\n",
        "\n",
        "# from sklearnex import patch_sklearn\n",
        "# patch_sklearn()"
      ]
    },
    {
      "cell_type": "markdown",
      "metadata": {
        "id": "JOs3LDQStjJr",
        "run_control": {
          "marked": true
        }
      },
      "source": [
        "## Question 1\n",
        "\n",
        "* Import the data. \n",
        "\n",
        "* Also generate approximately 100 equally spaced x data points over the range of 0 to 1. Using these points, calculate the y-data which represents the \"ground truth\" (the real function) from the equation: $y = sin(2\\pi x)$\n",
        "\n",
        "* Plot the sparse data (`x` vs `y`) and the calculated (\"real\") data.\n"
      ]
    },
    {
      "cell_type": "code",
      "execution_count": 26,
      "metadata": {
        "id": "7OlteHB41p81"
      },
      "outputs": [],
      "source": [
        "import pandas as pd\n",
        "import numpy as np\n",
        "\n",
        "filepath = os.sep.join(data_path)\n",
        "data = pd.read_csv(filepath)\n",
        "data = data.drop(['id', 'date', 'zipcode', 'lat', 'long', 'sqft_living15', 'sqft_lot15'], axis=1)\n",
        "\n",
        "# X_real = np.linspace(0, 1.0, 100)\n",
        "# Y_real = np.sin(2 * np.pi * X_real)"
      ]
    },
    {
      "cell_type": "code",
      "execution_count": 27,
      "metadata": {
        "ExecuteTime": {
          "end_time": "2021-09-24T17:38:25.599001Z",
          "start_time": "2021-09-24T17:38:25.042471Z"
        },
        "id": "49NVDcO1tjJs"
      },
      "outputs": [],
      "source": [
        "import matplotlib.pyplot as plt\n",
        "import seaborn as sns\n",
        "\n",
        "%matplotlib inline"
      ]
    },
    {
      "cell_type": "code",
      "execution_count": 28,
      "metadata": {
        "id": "VS0xW65HvsPL"
      },
      "outputs": [],
      "source": [
        "# Select the object (string) columns\n",
        "mask = data.dtypes == object\n",
        "categorical_cols = data.columns[mask]"
      ]
    },
    {
      "cell_type": "code",
      "execution_count": 29,
      "metadata": {
        "colab": {
          "base_uri": "https://localhost:8080/"
        },
        "id": "48kI6PyHvoSM",
        "outputId": "f3a9231d-7721-480a-8822-b13cf032f57b"
      },
      "outputs": [
        {
          "data": {
            "text/plain": [
              "0.0"
            ]
          },
          "execution_count": 29,
          "metadata": {},
          "output_type": "execute_result"
        }
      ],
      "source": [
        "# Determine how many extra columns would be created\n",
        "num_ohc_cols = (data[categorical_cols]\n",
        "                .apply(lambda x: x.nunique())\n",
        "                .sort_values(ascending=False))\n",
        "\n",
        "\n",
        "# No need to encode if there is only one value\n",
        "small_num_ohc_cols = num_ohc_cols.loc[num_ohc_cols>1]\n",
        "\n",
        "# Number of one-hot columns is one less than the number of categories\n",
        "small_num_ohc_cols -= 1\n",
        "\n",
        "# This is 215 columns, assuming the original ones are dropped. \n",
        "# This is quite a few extra columns!\n",
        "small_num_ohc_cols.sum()"
      ]
    },
    {
      "cell_type": "code",
      "execution_count": 30,
      "metadata": {
        "colab": {
          "base_uri": "https://localhost:8080/"
        },
        "id": "Rc68orxQvcwX",
        "outputId": "cd0e95a6-5b4e-4029-fb59-1e99f4cd304a"
      },
      "outputs": [
        {
          "name": "stdout",
          "output_type": "stream",
          "text": [
            "          price  bedrooms  bathrooms  sqft_living  sqft_lot  floors  \\\n",
            "0      221900.0         3       1.00         1180      5650     1.0   \n",
            "1      538000.0         3       2.25         2570      7242     2.0   \n",
            "2      180000.0         2       1.00          770     10000     1.0   \n",
            "3      604000.0         4       3.00         1960      5000     1.0   \n",
            "4      510000.0         3       2.00         1680      8080     1.0   \n",
            "...         ...       ...        ...          ...       ...     ...   \n",
            "21608  360000.0         3       2.50         1530      1131     3.0   \n",
            "21609  400000.0         4       2.50         2310      5813     2.0   \n",
            "21610  402101.0         2       0.75         1020      1350     2.0   \n",
            "21611  400000.0         3       2.50         1600      2388     2.0   \n",
            "21612  325000.0         2       0.75         1020      1076     2.0   \n",
            "\n",
            "       waterfront  view  condition  grade  sqft_above  sqft_basement  \\\n",
            "0               0     0          3      7        1180              0   \n",
            "1               0     0          3      7        2170            400   \n",
            "2               0     0          3      6         770              0   \n",
            "3               0     0          5      7        1050            910   \n",
            "4               0     0          3      8        1680              0   \n",
            "...           ...   ...        ...    ...         ...            ...   \n",
            "21608           0     0          3      8        1530              0   \n",
            "21609           0     0          3      8        2310              0   \n",
            "21610           0     0          3      7        1020              0   \n",
            "21611           0     0          3      8        1600              0   \n",
            "21612           0     0          3      7        1020              0   \n",
            "\n",
            "       yr_built  yr_renovated  \n",
            "0          1955             0  \n",
            "1          1951          1991  \n",
            "2          1933             0  \n",
            "3          1965             0  \n",
            "4          1987             0  \n",
            "...         ...           ...  \n",
            "21608      2009             0  \n",
            "21609      2014             0  \n",
            "21610      2009             0  \n",
            "21611      2004             0  \n",
            "21612      2008             0  \n",
            "\n",
            "[21613 rows x 14 columns]\n"
          ]
        }
      ],
      "source": [
        "# Copy of the data\n",
        "data_ohc = data.copy()\n",
        "\n",
        "# The encoders\n",
        "le = LabelEncoder()\n",
        "ohc = OneHotEncoder()\n",
        "\n",
        "for col in num_ohc_cols.index:\n",
        "    \n",
        "    # Integer encode the string categories\n",
        "    dat = le.fit_transform(data_ohc[col]).astype(int)\n",
        "    \n",
        "    # Remove the original column from the dataframe\n",
        "    data_ohc = data_ohc.drop(col, axis=1)\n",
        "\n",
        "    # One hot encode the data--this returns a sparse array\n",
        "    new_dat = ohc.fit_transform(dat.reshape(-1,1))\n",
        "\n",
        "    # Create unique column names\n",
        "    n_cols = new_dat.shape[1]\n",
        "    col_names = ['_'.join([col, str(x)]) for x in range(n_cols)]\n",
        "\n",
        "    # Create the new dataframe\n",
        "    new_df = pd.DataFrame(new_dat.toarray(), \n",
        "                          index=data_ohc.index, \n",
        "                          columns=col_names)\n",
        "\n",
        "    # Append the new data to the dataframe\n",
        "    data_ohc = pd.concat([data_ohc, new_df], axis=1)\n",
        "\n",
        "print(data_ohc)\n"
      ]
    },
    {
      "cell_type": "code",
      "execution_count": null,
      "metadata": {
        "id": "eoBftYGVvKVJ"
      },
      "outputs": [],
      "source": [
        "# y_col = 'age'\n",
        "\n",
        "# # Split the data that is not one-hot encoded\n",
        "# feature_cols = [x for x in data.columns if x != y_col]\n",
        "# X_data = data[feature_cols]\n",
        "# y_data = data[y_col]\n",
        "\n",
        "# X_train, X_test, y_train, y_test = train_test_split(X_data, y_data, \n",
        "#                                                     test_size=0.3, random_state=42)\n",
        "# # Split the data that is one-hot encoded\n",
        "# feature_cols = [x for x in data_ohc.columns if x != y_col]\n",
        "# X_data_ohc = data_ohc[feature_cols]\n",
        "# y_data_ohc = data_ohc[y_col]\n",
        "\n",
        "# X_train_ohc, X_test_ohc, y_train_ohc, y_test_ohc = train_test_split(X_data_ohc, y_data_ohc, \n",
        "#                                                     test_size=0.3, random_state=42)"
      ]
    },
    {
      "cell_type": "markdown",
      "metadata": {
        "id": "vm9NMaAstjJs"
      },
      "source": [
        "## Question 2\n",
        "\n",
        "\n",
        "* Using the `PolynomialFeatures` class from Scikit-learn's preprocessing library, create 20th order polynomial features.\n",
        "* Fit this data using linear regression. \n",
        "* Plot the resulting predicted value compared to the calculated data.\n",
        "\n",
        "Note that `PolynomialFeatures` requires either a dataframe (with one column, not a Series) or a 2D array of dimension (`X`, 1), where `X` is the length."
      ]
    },
    {
      "cell_type": "code",
      "execution_count": 31,
      "metadata": {
        "colab": {
          "base_uri": "https://localhost:8080/"
        },
        "id": "KVYD_fVtyU_B",
        "outputId": "d04bcc5b-162c-41fd-8e79-820ae6f8025e"
      },
      "outputs": [
        {
          "name": "stdout",
          "output_type": "stream",
          "text": [
            "14\n",
            "14\n"
          ]
        }
      ],
      "source": [
        "print(data.shape[1])\n",
        "\n",
        "# Remove the string columns from the dataframe\n",
        "data = data.drop(num_ohc_cols.index, axis=1)\n",
        "\n",
        "print(data.shape[1])"
      ]
    },
    {
      "cell_type": "code",
      "execution_count": 32,
      "metadata": {
        "id": "uh2bUuckynQv"
      },
      "outputs": [],
      "source": [
        "y_col = 'price'\n",
        "\n",
        "# Split the data that is not one-hot encoded\n",
        "feature_cols = [x for x in data.columns if x != y_col]\n",
        "X_data = data[feature_cols]\n",
        "y_data = data[y_col]\n",
        "\n",
        "X_train, X_test, y_train, y_test = train_test_split(X_data, y_data, \n",
        "                                                    test_size=0.3, random_state=42)\n",
        "# Split the data that is one-hot encoded\n",
        "feature_cols = [x for x in data_ohc.columns if x != y_col]\n",
        "X_data_ohc = data_ohc[feature_cols]\n",
        "y_data_ohc = data_ohc[y_col]\n",
        "\n",
        "X_train_ohc, X_test_ohc, y_train_ohc, y_test_ohc = train_test_split(X_data_ohc, y_data_ohc, \n",
        "                                                    test_size=0.3, random_state=42)"
      ]
    },
    {
      "cell_type": "code",
      "execution_count": 33,
      "metadata": {
        "colab": {
          "base_uri": "https://localhost:8080/",
          "height": 112
        },
        "id": "dDMMBw91yvCq",
        "outputId": "e9853230-2a9b-42e3-9bf1-3b5bd95a2a21"
      },
      "outputs": [
        {
          "data": {
            "text/html": [
              "<div>\n",
              "<style scoped>\n",
              "    .dataframe tbody tr th:only-of-type {\n",
              "        vertical-align: middle;\n",
              "    }\n",
              "\n",
              "    .dataframe tbody tr th {\n",
              "        vertical-align: top;\n",
              "    }\n",
              "\n",
              "    .dataframe thead th {\n",
              "        text-align: right;\n",
              "    }\n",
              "</style>\n",
              "<table border=\"1\" class=\"dataframe\">\n",
              "  <thead>\n",
              "    <tr style=\"text-align: right;\">\n",
              "      <th></th>\n",
              "      <th>no enc</th>\n",
              "      <th>one-hot enc</th>\n",
              "    </tr>\n",
              "  </thead>\n",
              "  <tbody>\n",
              "    <tr>\n",
              "      <th>train</th>\n",
              "      <td>4.536802e+10</td>\n",
              "      <td>4.536802e+10</td>\n",
              "    </tr>\n",
              "    <tr>\n",
              "      <th>test</th>\n",
              "      <td>5.043061e+10</td>\n",
              "      <td>5.043061e+10</td>\n",
              "    </tr>\n",
              "  </tbody>\n",
              "</table>\n",
              "</div>"
            ],
            "text/plain": [
              "             no enc   one-hot enc\n",
              "train  4.536802e+10  4.536802e+10\n",
              "test   5.043061e+10  5.043061e+10"
            ]
          },
          "execution_count": 33,
          "metadata": {},
          "output_type": "execute_result"
        }
      ],
      "source": [
        "LR = LinearRegression()\n",
        "\n",
        "# Storage for error values\n",
        "error_df = list()\n",
        "\n",
        "# Data that have not been one-hot encoded\n",
        "LR = LR.fit(X_train, y_train)\n",
        "y_train_pred = LR.predict(X_train)\n",
        "y_test_pred = LR.predict(X_test)\n",
        "\n",
        "error_df.append(pd.Series({'train': mean_squared_error(y_train, y_train_pred),\n",
        "                           'test' : mean_squared_error(y_test,  y_test_pred)},\n",
        "                           name='no enc'))\n",
        "\n",
        "# Data that have been one-hot encoded\n",
        "LR = LR.fit(X_train_ohc, y_train_ohc)\n",
        "y_train_ohc_pred = LR.predict(X_train_ohc)\n",
        "y_test_ohc_pred = LR.predict(X_test_ohc)\n",
        "\n",
        "error_df.append(pd.Series({'train': mean_squared_error(y_train_ohc, y_train_ohc_pred),\n",
        "                           'test' : mean_squared_error(y_test_ohc,  y_test_ohc_pred)},\n",
        "                          name='one-hot enc'))\n",
        "\n",
        "# Assemble the results\n",
        "error_df = pd.concat(error_df, axis=1)\n",
        "error_df"
      ]
    },
    {
      "cell_type": "code",
      "execution_count": 34,
      "metadata": {
        "colab": {
          "base_uri": "https://localhost:8080/"
        },
        "id": "AcazPNV00wxV",
        "outputId": "5a56b662-c1b7-4c32-ccb6-e6fa91bdc944"
      },
      "outputs": [
        {
          "name": "stdout",
          "output_type": "stream",
          "text": [
            "not_encoded - standardscaling / 0.00449 sec\n",
            "not_encoded - minmaxscaling / 0.00499 sec\n",
            "not_encoded - maxabsscaling / 0.00398 sec\n",
            "one_hot_encoded - standardscaling / 0.00399 sec\n",
            "one_hot_encoded - minmaxscaling / 0.00498 sec\n",
            "one_hot_encoded - maxabsscaling / 0.00299 sec\n",
            "not_encoded - standardscaling        5.043061e+10\n",
            "not_encoded - minmaxscaling          5.043061e+10\n",
            "not_encoded - maxabsscaling          5.043061e+10\n",
            "one_hot_encoded - standardscaling    5.043061e+10\n",
            "one_hot_encoded - minmaxscaling      5.043061e+10\n",
            "one_hot_encoded - maxabsscaling      5.043061e+10\n",
            "--------------------------------------------------------------------------------\n",
            "not_encoded - standardscaling 50430607457.20221\n",
            "not_encoded - minmaxscaling 50430607457.203384\n",
            "not_encoded - maxabsscaling 50430607457.1957\n",
            "one_hot_encoded - standardscaling 50430607457.20221\n",
            "one_hot_encoded - minmaxscaling 50430607457.203384\n",
            "one_hot_encoded - maxabsscaling 50430607457.1957\n"
          ]
        }
      ],
      "source": [
        "import time\n",
        "\n",
        "scalers = {'standard': StandardScaler(),\n",
        "           'minmax': MinMaxScaler(),\n",
        "           'maxabs': MaxAbsScaler()}\n",
        "\n",
        "training_test_sets = {\n",
        "    'not_encoded': (X_train, y_train, X_test, y_test),\n",
        "    'one_hot_encoded': (X_train_ohc, y_train_ohc, X_test_ohc, y_test_ohc)}\n",
        "\n",
        "\n",
        "# Get the list of float columns, and the float data\n",
        "# so that we don't scale something we already scaled. \n",
        "# We're supposed to scale the original data each time\n",
        "mask = X_train.dtypes == float\n",
        "float_columns = X_train.columns[mask]\n",
        "\n",
        "# initialize model\n",
        "LR = LinearRegression()\n",
        "\n",
        "# iterate over all possible combinations and get the errors\n",
        "errors = {}\n",
        "for encoding_label, (_X_train, _y_train, _X_test, _y_test) in training_test_sets.items():\n",
        "    for scaler_label, scaler in scalers.items():\n",
        "        trainingset = _X_train.copy()  # copy because we dont want to scale this more than once.\n",
        "        testset = _X_test.copy()\n",
        "        trainingset[float_columns] = scaler.fit_transform(trainingset[float_columns])\n",
        "        testset[float_columns] = scaler.transform(testset[float_columns])\n",
        "\n",
        "\n",
        "        startTime = time.time()\n",
        "        LR.fit(trainingset, _y_train)\n",
        "        endTime = time.time()\n",
        "\n",
        "        predictions = LR.predict(testset)\n",
        "        key = encoding_label + ' - ' + scaler_label + 'scaling'\n",
        "        errors[key] = mean_squared_error(_y_test, predictions)\n",
        "\n",
        "        print(f\"{key} / {endTime - startTime:.5f} sec\")\n",
        "\n",
        "errors = pd.Series(errors)\n",
        "print(errors.to_string())\n",
        "print('-' * 80)\n",
        "for key, error_val in errors.items():\n",
        "    print(key, error_val)"
      ]
    },
    {
      "cell_type": "markdown",
      "metadata": {
        "id": "F94O9GQItjJt"
      },
      "source": [
        "## Question 3\n",
        "\n",
        "* Perform the regression on using the data with polynomial features using ridge regression ($\\alpha$=0.001) and lasso regression ($\\alpha$=0.0001). \n",
        "* Plot the results, as was done in Question 1. \n",
        "* Also plot the magnitude of the coefficients obtained from these regressions, and compare them to those obtained from linear regression in the previous question. The linear regression coefficients will likely need a separate plot (or their own y-axis) due to their large magnitude. \n",
        "\n",
        "What does the comparatively large magnitude of the data tell you about the role of regularization?"
      ]
    },
    {
      "cell_type": "code",
      "execution_count": 35,
      "metadata": {
        "colab": {
          "base_uri": "https://localhost:8080/",
          "height": 297
        },
        "id": "EvtHk_Y40UvV",
        "outputId": "63eb7074-87d1-4552-9228-966e2485c04d"
      },
      "outputs": [
        {
          "name": "stderr",
          "output_type": "stream",
          "text": [
            "\n",
            "KeyboardInterrupt\n",
            "\n"
          ]
        },
        {
          "data": {
            "image/png": "[encoded data removed]",
            "text/plain": [
              "<Figure size 432x288 with 1 Axes>"
            ]
          },
          "metadata": {
            "needs_background": "light"
          },
          "output_type": "display_data"
        }
      ],
      "source": [
        "# Mute the sklearn warning about regularization\n",
        "import warnings\n",
        "warnings.filterwarnings('ignore', module='sklearn')\n",
        "\n",
        "# The ridge regression model\n",
        "rr = Ridge(alpha=0.001)\n",
        "rr = rr.fit(X_data, y_data)\n",
        "Y_pred_rr = rr.predict(X_data)\n",
        "\n",
        "# The lasso regression model\n",
        "lassor = Lasso(alpha=0.0001)\n",
        "\n",
        "lassor = lassor.fit(X_data, y_data)\n",
        "Y_pred_lr = lassor.predict(X_data)\n",
        "\n",
        "# The plot of the predicted values\n",
        "plt.plot(X_data, y_data, marker='o', ls='', label='data')\n",
        "# plt.plot(X_real, Y_real, ls='--', label='real function')\n",
        "# plt.plot(X_data, Y_pred, label='linear regression', marker='^', alpha=.5)\n",
        "# plt.plot(X_data, Y_pred_rr, label='ridge regression', marker='^', alpha=.5)\n",
        "# plt.plot(X_data, Y_pred_lr, label='lasso regression', marker='^', alpha=.5)\n",
        "\n",
        "plt.legend()\n",
        "\n",
        "ax = plt.gca()\n",
        "ax.set(xlabel='x data', ylabel='y data')"
      ]
    },
    {
      "cell_type": "code",
      "execution_count": 36,
      "metadata": {
        "ExecuteTime": {
          "end_time": "2021-09-24T17:38:27.959448Z",
          "start_time": "2021-09-24T17:38:27.284316Z"
        },
        "colab": {
          "base_uri": "https://localhost:8080/",
          "height": 279
        },
        "id": "STLfuSzstjJu",
        "outputId": "abb9020b-ee6b-468b-d279-92c4d674c995"
      },
      "outputs": [],
      "source": [
        "# Mute the sklearn warning about regularization\n",
        "import warnings\n",
        "warnings.filterwarnings('ignore', module='sklearn')\n",
        "\n",
        "# The ridge regression model\n",
        "# rr = Ridge(alpha=0.001)\n",
        "# rr = rr.fit(X_data_ohc, y_data)\n",
        "# Y_pred_rr = rr.predict(X_data)\n",
        "\n",
        "# The lasso regression model\n",
        "lassor = Lasso(alpha=0.0001)\n",
        "lassor = lassor.fit(X_data_ohc, y_data)\n",
        "Y_pred_lr = lassor.predict(X_data_ohc)\n",
        "\n",
        "# The plot of the predicted values\n",
        "# plt.plot(X_data_ohc, y_data, marker='o', ls='', label='data')\n",
        "# plt.plot(X_real, Y_real, ls='--', label='real function')\n",
        "# plt.plot(X_data, Y_pred, label='linear regression', marker='^', alpha=.5)\n",
        "# plt.plot(X_data, Y_pred_rr, label='ridge regression', marker='^', alpha=.5)\n",
        "# plt.plot(X_data, Y_pred_lr, label='lasso regression', marker='^', alpha=.5)\n",
        "\n",
        "# plt.legend()\n",
        "\n",
        "# ax = plt.gca()\n",
        "# ax.set(xlabel='x data', ylabel='y data');"
      ]
    },
    {
      "cell_type": "code",
      "execution_count": 37,
      "metadata": {
        "ExecuteTime": {
          "end_time": "2021-09-24T17:38:28.007446Z",
          "start_time": "2021-09-24T17:38:27.962447Z"
        },
        "colab": {
          "base_uri": "https://localhost:8080/",
          "height": 300
        },
        "id": "MNarSSCrtjJu",
        "outputId": "7a77270d-70d9-4ada-e724-0b85f3e06edd"
      },
      "outputs": [
        {
          "data": {
            "text/html": [
              "<div>\n",
              "<style scoped>\n",
              "    .dataframe tbody tr th:only-of-type {\n",
              "        vertical-align: middle;\n",
              "    }\n",
              "\n",
              "    .dataframe tbody tr th {\n",
              "        vertical-align: top;\n",
              "    }\n",
              "\n",
              "    .dataframe thead th {\n",
              "        text-align: right;\n",
              "    }\n",
              "</style>\n",
              "<table border=\"1\" class=\"dataframe\">\n",
              "  <thead>\n",
              "    <tr style=\"text-align: right;\">\n",
              "      <th></th>\n",
              "      <th>linear regression</th>\n",
              "      <th>lasso regression</th>\n",
              "    </tr>\n",
              "  </thead>\n",
              "  <tbody>\n",
              "    <tr>\n",
              "      <th>count</th>\n",
              "      <td>13.000000</td>\n",
              "      <td>13.000000</td>\n",
              "    </tr>\n",
              "    <tr>\n",
              "      <th>mean</th>\n",
              "      <td>92355.625139</td>\n",
              "      <td>67341.956230</td>\n",
              "    </tr>\n",
              "    <tr>\n",
              "      <th>std</th>\n",
              "      <td>165462.530855</td>\n",
              "      <td>156156.503817</td>\n",
              "    </tr>\n",
              "    <tr>\n",
              "      <th>min</th>\n",
              "      <td>0.271354</td>\n",
              "      <td>0.255617</td>\n",
              "    </tr>\n",
              "    <tr>\n",
              "      <th>25%</th>\n",
              "      <td>59.210079</td>\n",
              "      <td>137.339486</td>\n",
              "    </tr>\n",
              "    <tr>\n",
              "      <th>50%</th>\n",
              "      <td>14689.376868</td>\n",
              "      <td>18809.852886</td>\n",
              "    </tr>\n",
              "    <tr>\n",
              "      <th>75%</th>\n",
              "      <td>84965.212541</td>\n",
              "      <td>45202.658652</td>\n",
              "    </tr>\n",
              "    <tr>\n",
              "      <th>max</th>\n",
              "      <td>536654.961349</td>\n",
              "      <td>574023.494684</td>\n",
              "    </tr>\n",
              "  </tbody>\n",
              "</table>\n",
              "</div>"
            ],
            "text/plain": [
              "       linear regression  lasso regression\n",
              "count          13.000000         13.000000\n",
              "mean        92355.625139      67341.956230\n",
              "std        165462.530855     156156.503817\n",
              "min             0.271354          0.255617\n",
              "25%            59.210079        137.339486\n",
              "50%         14689.376868      18809.852886\n",
              "75%         84965.212541      45202.658652\n",
              "max        536654.961349     574023.494684"
            ]
          },
          "execution_count": 37,
          "metadata": {},
          "output_type": "execute_result"
        }
      ],
      "source": [
        "# let's look at the absolute value of coefficients for each model\n",
        "\n",
        "coefficients = pd.DataFrame()\n",
        "coefficients['linear regression'] = LR.coef_.ravel()\n",
        "# coefficients['ridge regression'] = rr.coef_.ravel()\n",
        "coefficients['lasso regression'] = lassor.coef_.ravel()\n",
        "coefficients = coefficients.applymap(abs)\n",
        "\n",
        "coefficients.describe()  # Huge difference in scale between non-regularized vs regularized regression"
      ]
    },
    {
      "cell_type": "code",
      "execution_count": 38,
      "metadata": {
        "ExecuteTime": {
          "end_time": "2021-09-24T17:38:28.997515Z",
          "start_time": "2021-09-24T17:38:28.012451Z"
        },
        "colab": {
          "base_uri": "https://localhost:8080/",
          "height": 290
        },
        "id": "NLiACOLctjJv",
        "outputId": "950e945c-fde2-4ead-c208-dc50b1e232fb"
      },
      "outputs": [
        {
          "data": {
            "image/png": "[encoded data removed]",
            "text/plain": [
              "<Figure size 432x288 with 2 Axes>"
            ]
          },
          "metadata": {
            "needs_background": "light"
          },
          "output_type": "display_data"
        }
      ],
      "source": [
        "colors = sns.color_palette()\n",
        "\n",
        "# Setup the dual y-axes\n",
        "ax1 = plt.axes()\n",
        "ax2 = ax1.twinx()\n",
        "\n",
        "# Plot the linear regression data\n",
        "ax1.plot(LR.coef_.ravel(), \n",
        "         color=colors[0], marker='o', label='linear regression')\n",
        "\n",
        "# Plot the regularization data sets\n",
        "# ax2.plot(rr.coef_.ravel(), \n",
        "#          color=colors[1], marker='o', label='ridge regression')\n",
        "\n",
        "ax2.plot(lassor.coef_.ravel(), \n",
        "         color=colors[2], marker='o', label='lasso regression')\n",
        "\n",
        "# Customize axes scales\n",
        "ax1.set_ylim(-2e14, 2e14)\n",
        "ax2.set_ylim(-25, 25)\n",
        "\n",
        "# Combine the legends\n",
        "h1, l1 = ax1.get_legend_handles_labels()\n",
        "h2, l2 = ax2.get_legend_handles_labels()\n",
        "ax1.legend(h1+h2, l1+l2)\n",
        "\n",
        "ax1.set(xlabel='coefficients',ylabel='linear regression')\n",
        "ax2.set(ylabel='ridge and lasso regression')\n",
        "\n",
        "ax1.set_xticks(range(len(LR.coef_)));"
      ]
    },
    {
      "cell_type": "markdown",
      "metadata": {
        "id": "R1MDklPftjJv"
      },
      "source": [
        "## Question 4\n",
        "\n",
        "For the remaining questions, we will be working with the [data set](https://www.kaggle.com/c/house-prices-advanced-regression-techniques) from last lesson, which is based on housing prices in Ames, Iowa. There are an extensive number of features--see the exercises from week three for a discussion of these features.\n",
        "\n",
        "To begin:\n",
        "\n",
        "* Import the data with Pandas, remove any null values, and one hot encode categoricals. Either Scikit-learn's feature encoders or Pandas `get_dummies` method can be used.\n",
        "* Split the data into train and test sets. \n",
        "* Log transform skewed features. \n",
        "* Scaling can be attempted, although it can be interesting to see how well regularization works without scaling features."
      ]
    },
    {
      "cell_type": "code",
      "execution_count": null,
      "metadata": {
        "ExecuteTime": {
          "end_time": "2021-09-24T17:38:29.060087Z",
          "start_time": "2021-09-24T17:38:29.001514Z"
        },
        "id": "P0bHUf3ztjJv"
      },
      "outputs": [],
      "source": [
        "filepath = os.sep.join(data_path + ['Ames_Housing_Sales.csv'])\n",
        "data = pd.read_csv(filepath, sep=',')"
      ]
    },
    {
      "cell_type": "markdown",
      "metadata": {
        "ExecuteTime": {
          "end_time": "2017-03-10T02:40:49.956043Z",
          "start_time": "2017-03-09T21:40:49.950878-05:00"
        },
        "id": "MfMmLjmMtjJw"
      },
      "source": [
        "Create a list of categorial data and one-hot encode. Pandas one-hot encoder (`get_dummies`) works well with data that is defined as a categorical."
      ]
    },
    {
      "cell_type": "code",
      "execution_count": null,
      "metadata": {
        "ExecuteTime": {
          "end_time": "2021-09-24T17:38:29.215090Z",
          "start_time": "2021-09-24T17:38:29.064089Z"
        },
        "id": "HR04gA1ntjJw"
      },
      "outputs": [],
      "source": [
        "# Get a Pd.Series consisting of all the string categoricals\n",
        "one_hot_encode_cols = data.dtypes[data.dtypes == object]  # filtering by string categoricals\n",
        "one_hot_encode_cols = one_hot_encode_cols.index.tolist()  # list of categorical fields\n",
        "\n",
        "# Here we see another way of one-hot-encoding:\n",
        "# Encode these columns as categoricals so one hot encoding works on split data (if desired)\n",
        "for col in one_hot_encode_cols:\n",
        "    data[col] = pd.Categorical(data[col])\n",
        "\n",
        "# Do the one hot encoding\n",
        "data = pd.get_dummies(data, columns=one_hot_encode_cols)"
      ]
    },
    {
      "cell_type": "markdown",
      "metadata": {
        "id": "gMyw4u8AtjJx"
      },
      "source": [
        "Next, split the data in train and test data sets."
      ]
    },
    {
      "cell_type": "code",
      "execution_count": null,
      "metadata": {
        "ExecuteTime": {
          "end_time": "2021-09-24T17:38:29.247089Z",
          "start_time": "2021-09-24T17:38:29.218091Z"
        },
        "id": "iPY_D1pgtjJx"
      },
      "outputs": [],
      "source": [
        "train, test = train_test_split(data, test_size=0.3, random_state=42)"
      ]
    },
    {
      "cell_type": "markdown",
      "metadata": {
        "id": "KrfbQPAotjJx"
      },
      "source": [
        "There are a number of columns that have skewed features--a log transformation can be applied to them. Note that this includes the `SalePrice`, our predictor. However, let's keep that one as is."
      ]
    },
    {
      "cell_type": "code",
      "execution_count": null,
      "metadata": {
        "ExecuteTime": {
          "end_time": "2021-09-24T17:38:29.262091Z",
          "start_time": "2021-09-24T17:38:29.250089Z"
        },
        "id": "Yf28A4-xtjJy"
      },
      "outputs": [],
      "source": [
        "# Create a list of float colums to check for skewing\n",
        "mask = data.dtypes == float\n",
        "float_cols = data.columns[mask]"
      ]
    },
    {
      "cell_type": "code",
      "execution_count": null,
      "metadata": {
        "ExecuteTime": {
          "end_time": "2021-09-24T17:38:29.309089Z",
          "start_time": "2021-09-24T17:38:29.265093Z"
        },
        "id": "IDVQ0-DdtjJy"
      },
      "outputs": [],
      "source": [
        "skew_limit = 0.75\n",
        "skew_vals = train[float_cols].skew()\n",
        "\n",
        "skew_cols = (skew_vals\n",
        "             .sort_values(ascending=False)\n",
        "             .to_frame()\n",
        "             .rename(columns={0:'Skew'})\n",
        "             .query('abs(Skew) > {0}'.format(skew_limit)))\n",
        "\n",
        "skew_cols"
      ]
    },
    {
      "cell_type": "markdown",
      "metadata": {
        "id": "vzS5fVAdtjJz"
      },
      "source": [
        "Transform all the columns where the skew is greater than 0.75, excluding \"SalePrice\"."
      ]
    },
    {
      "cell_type": "code",
      "execution_count": null,
      "metadata": {
        "ExecuteTime": {
          "end_time": "2021-09-24T17:38:30.393629Z",
          "start_time": "2021-09-24T17:38:29.312092Z"
        },
        "id": "2hU0D9cytjJz"
      },
      "outputs": [],
      "source": [
        "# OPTIONAL: Let's look at what happens to one of these features, when we apply np.log1p visually.\n",
        "\n",
        "field = \"BsmtFinSF1\"\n",
        "fig, (ax_before, ax_after) = plt.subplots(1, 2, figsize=(10, 5))\n",
        "train[field].hist(ax=ax_before)\n",
        "train[field].apply(np.log1p).hist(ax=ax_after)\n",
        "ax_before.set(title='before np.log1p', ylabel='frequency', xlabel='value')\n",
        "ax_after.set(title='after np.log1p', ylabel='frequency', xlabel='value')\n",
        "fig.suptitle('Field \"{}\"'.format(field));\n",
        "# a little bit better"
      ]
    },
    {
      "cell_type": "code",
      "execution_count": null,
      "metadata": {
        "ExecuteTime": {
          "end_time": "2021-09-24T17:38:30.425240Z",
          "start_time": "2021-09-24T17:38:30.397628Z"
        },
        "id": "8j8J-LRVtjJz"
      },
      "outputs": [],
      "source": [
        "# Mute the setting wtih a copy warnings\n",
        "pd.options.mode.chained_assignment = None\n",
        "\n",
        "for col in skew_cols.index.tolist():\n",
        "    if col == \"SalePrice\":\n",
        "        continue\n",
        "    train[col] = np.log1p(train[col])\n",
        "    test[col]  = test[col].apply(np.log1p)  # same thing"
      ]
    },
    {
      "cell_type": "markdown",
      "metadata": {
        "id": "q52s-6fVtjJ0"
      },
      "source": [
        "Separate features from predictor."
      ]
    },
    {
      "cell_type": "code",
      "execution_count": null,
      "metadata": {
        "ExecuteTime": {
          "end_time": "2021-09-24T17:38:30.455238Z",
          "start_time": "2021-09-24T17:38:30.428240Z"
        },
        "id": "7T441wwztjJ0"
      },
      "outputs": [],
      "source": [
        "feature_cols = [x for x in train.columns if x != 'SalePrice']\n",
        "X_train = train[feature_cols].to_numpy()\n",
        "y_train = train['SalePrice'].to_numpy()\n",
        "\n",
        "X_test  = test[feature_cols].to_numpy()\n",
        "y_test  = test['SalePrice'].to_numpy()"
      ]
    },
    {
      "cell_type": "markdown",
      "metadata": {
        "ExecuteTime": {
          "end_time": "2017-02-21T09:11:03.256453",
          "start_time": "2017-02-21T09:11:03.241117"
        },
        "id": "TUBABevntjJ0"
      },
      "source": [
        "## Question 5\n",
        "\n",
        "* Write a function **`rmse`** that takes in truth and prediction values and returns the root-mean-squared error. Use sklearn's `mean_squared_error`.  \n"
      ]
    },
    {
      "cell_type": "code",
      "execution_count": 39,
      "metadata": {
        "ExecuteTime": {
          "end_time": "2021-09-24T17:38:30.471241Z",
          "start_time": "2021-09-24T17:38:30.458242Z"
        },
        "id": "BeNnoyWetjJ0"
      },
      "outputs": [],
      "source": [
        "def rmse(ytrue, ypredicted):\n",
        "    return np.sqrt(mean_squared_error(ytrue, ypredicted))"
      ]
    },
    {
      "cell_type": "markdown",
      "metadata": {
        "id": "pN0863_TtjJ1"
      },
      "source": [
        "* Fit a basic linear regression model\n",
        "* print the root-mean-squared error for this model\n",
        "* plot the predicted vs actual sale price based on the model.  "
      ]
    },
    {
      "cell_type": "code",
      "execution_count": 40,
      "metadata": {
        "ExecuteTime": {
          "end_time": "2021-09-24T17:38:30.534242Z",
          "start_time": "2021-09-24T17:38:30.474241Z"
        },
        "colab": {
          "base_uri": "https://localhost:8080/"
        },
        "id": "WQwjc-bBtjJ1",
        "outputId": "42d5aca2-f537-41cb-b2ab-91491a535d9e"
      },
      "outputs": [
        {
          "name": "stdout",
          "output_type": "stream",
          "text": [
            "212997.70004009845\n"
          ]
        }
      ],
      "source": [
        "linearRegression = LinearRegression().fit(X_train_ohc, y_train_ohc)\n",
        "\n",
        "linearRegression_rmse = rmse(y_train_ohc, linearRegression.predict(X_train_ohc))\n",
        "\n",
        "print(linearRegression_rmse)"
      ]
    },
    {
      "cell_type": "code",
      "execution_count": 42,
      "metadata": {
        "ExecuteTime": {
          "end_time": "2021-09-24T17:38:31.163275Z",
          "start_time": "2021-09-24T17:38:30.537244Z"
        },
        "colab": {
          "base_uri": "https://localhost:8080/",
          "height": 404
        },
        "id": "CMSAI7u8tjJ2",
        "outputId": "d99dc598-5375-407f-aab5-c6c7a68a4654"
      },
      "outputs": [
        {
          "data": {
            "image/png": "[encoded data removed]",
            "text/plain": [
              "<Figure size 432x432 with 1 Axes>"
            ]
          },
          "metadata": {
            "needs_background": "light"
          },
          "output_type": "display_data"
        }
      ],
      "source": [
        "f = plt.figure(figsize=(6,6))\n",
        "ax = plt.axes()\n",
        "\n",
        "ax.plot(y_train_ohc, linearRegression.predict(X_train_ohc), \n",
        "         marker='o', ls='', ms=3.0)\n",
        "\n",
        "lim = (0, y_test.max())\n",
        "\n",
        "ax.set(xlabel='Actual Duration', \n",
        "       ylabel='Predicted Duration', \n",
        "       xlim=lim,\n",
        "       ylim=lim,\n",
        "       title='Linear Regression Results');"
      ]
    },
    {
      "cell_type": "markdown",
      "metadata": {
        "id": "zaqPTVTPtjJ2"
      },
      "source": [
        "## Question 6\n",
        "\n",
        "Ridge regression uses L2 normalization to reduce the magnitude of the coefficients. This can be helpful in situations where there is high variance. The regularization functions in Scikit-learn each contain versions that have cross-validation built in.\n",
        "\n",
        "* Fit a regular (non-cross validated) Ridge model to a range of $\\alpha$ values and plot the RMSE using the cross validated error function you created above.\n",
        "* Use $$[0.005, 0.05, 0.1, 0.3, 1, 3, 5, 10, 15, 30, 80]$$ as the range of alphas.\n",
        "* Then repeat the fitting of the Ridge models using the range of $\\alpha$ values from the prior section. Compare the results."
      ]
    },
    {
      "cell_type": "markdown",
      "metadata": {
        "id": "-d3xef7itjJ2"
      },
      "source": [
        "Now for the `RidgeCV` method. It's not possible to get the alpha values for the models that weren't selected, unfortunately. The resulting error values and $\\alpha$ values are very similar to those obtained above."
      ]
    },
    {
      "cell_type": "code",
      "execution_count": 17,
      "metadata": {
        "ExecuteTime": {
          "end_time": "2021-09-24T17:38:31.711283Z",
          "start_time": "2021-09-24T17:38:31.166278Z"
        },
        "id": "Z6xiKcvHtjJ3"
      },
      "outputs": [],
      "source": [
        "alphas = [0.005, 0.05, 0.1, 0.3, 1, 3, 5, 10, 15, 30, 80]\n",
        "\n",
        "# ridgeCV = RidgeCV(alphas=alphas, \n",
        "#                   cv=4).fit(X_train, y_train)\n",
        "\n",
        "# ridgeCV_rmse = rmse(y_test, ridgeCV.predict(X_test))\n",
        "\n",
        "# print(ridgeCV.alpha_, ridgeCV_rmse)"
      ]
    },
    {
      "cell_type": "markdown",
      "metadata": {
        "id": "tQd0i7Y8tjJ3"
      },
      "source": [
        "## Question 7\n",
        "\n",
        "\n",
        "Much like the `RidgeCV` function, there is also a `LassoCV` function that uses an L1 regularization function and cross-validation. L1 regularization will selectively shrink some coefficients, effectively performing feature elimination.\n",
        "\n",
        "The `LassoCV` function does not allow the scoring function to be set. However, the custom error function (`rmse`) created above can be used to evaluate the error on the final model.\n",
        "\n",
        "Similarly, there is also an elastic net function with cross validation, `ElasticNetCV`, which is a combination of L2 and L1 regularization.\n",
        "\n",
        "* Fit a Lasso model using cross validation and determine the optimum value for $\\alpha$ and the RMSE using the function created above. Note that the magnitude of $\\alpha$ may be different from the Ridge model.\n",
        "* Repeat this with the Elastic net model.\n",
        "* Compare the results via table and/or plot.\n",
        "\n",
        "Use the following alphas:  \n",
        "`[1e-5, 5e-5, 0.0001, 0.0005]`"
      ]
    },
    {
      "cell_type": "code",
      "execution_count": 53,
      "metadata": {
        "ExecuteTime": {
          "end_time": "2021-09-24T17:41:04.384991Z",
          "start_time": "2021-09-24T17:38:31.714283Z"
        },
        "colab": {
          "base_uri": "https://localhost:8080/"
        },
        "id": "By19r9MhtjJ4",
        "outputId": "e3ba10e4-bd5f-434b-8923-a71dce228d42"
      },
      "outputs": [
        {
          "name": "stdout",
          "output_type": "stream",
          "text": [
            "4.93599 sec\n",
            "0.0005 224567.60153543888\n"
          ]
        }
      ],
      "source": [
        "import time\n",
        "alphas2 = np.array([1e-5, 5e-5, 0.0001, 0.0005])\n",
        "\n",
        "scaler = MinMaxScaler()\n",
        "# scaler = StandardScaler()\n",
        "\n",
        "startTime = time.time()\n",
        "X_train_scaled = scaler.fit_transform(X_train_ohc)\n",
        "X_test_scaled = scaler.transform(X_test_ohc)\n",
        "\n",
        "lassoCV = LassoCV(alphas=alphas2,\n",
        "                  max_iter=5e4,\n",
        "                  cv=3).fit(X_train_scaled, y_train)\n",
        "endTime = time.time()\n",
        "print(f\"{endTime - startTime:.5f} sec\")\n",
        "\n",
        "lassoCV_rmse = rmse(y_test, lassoCV.predict(X_test_scaled))\n",
        "\n",
        "print(lassoCV.alpha_, lassoCV_rmse)  # Lasso is slower"
      ]
    },
    {
      "cell_type": "markdown",
      "metadata": {
        "id": "RLExFSWatjJ4"
      },
      "source": [
        "We can determine how many of these features remain non-zero."
      ]
    },
    {
      "cell_type": "code",
      "execution_count": 19,
      "metadata": {
        "ExecuteTime": {
          "end_time": "2021-09-24T17:41:04.400513Z",
          "start_time": "2021-09-24T17:41:04.388514Z"
        },
        "id": "UE7FiLD-tjJ4"
      },
      "outputs": [
        {
          "name": "stdout",
          "output_type": "stream",
          "text": [
            "Of 14 coefficients, 14 are non-zero with Lasso.\n"
          ]
        }
      ],
      "source": [
        "print('Of {} coefficients, {} are non-zero with Lasso.'.format(len(lassoCV.coef_), \n",
        "                                                               len(lassoCV.coef_.nonzero()[0])))"
      ]
    },
    {
      "cell_type": "markdown",
      "metadata": {
        "ExecuteTime": {
          "end_time": "2017-02-16T12:03:06.013488",
          "start_time": "2017-02-16T12:03:06.007159"
        },
        "collapsed": true,
        "id": "mJmuOOkstjJ5",
        "run_control": {
          "marked": true
        }
      },
      "source": [
        "Now try the elastic net, with the same alphas as in Lasso, and l1_ratios between 0.1 and 0.9"
      ]
    },
    {
      "cell_type": "code",
      "execution_count": null,
      "metadata": {
        "ExecuteTime": {
          "end_time": "2021-09-24T17:42:59.975548Z",
          "start_time": "2021-09-24T17:41:04.407035Z"
        },
        "id": "rzt6vCg_tjJ5",
        "scrolled": true
      },
      "outputs": [],
      "source": [
        "l1_ratios = np.linspace(0.1, 0.9, 9)\n",
        "\n",
        "elasticNetCV = ElasticNetCV(alphas=alphas2, \n",
        "                            l1_ratio=l1_ratios,\n",
        "                            max_iter=1e4).fit(X_train, y_train)\n",
        "elasticNetCV_rmse = rmse(y_test, elasticNetCV.predict(X_test))\n",
        "\n",
        "print(elasticNetCV.alpha_, elasticNetCV.l1_ratio_, elasticNetCV_rmse)"
      ]
    },
    {
      "cell_type": "markdown",
      "metadata": {
        "id": "l9K5-GWMtjJ5"
      },
      "source": [
        "Comparing the RMSE calculation from all models is easiest in a table."
      ]
    },
    {
      "cell_type": "code",
      "execution_count": 44,
      "metadata": {
        "ExecuteTime": {
          "end_time": "2021-09-24T17:42:59.992496Z",
          "start_time": "2021-09-24T17:42:59.976916Z"
        },
        "colab": {
          "base_uri": "https://localhost:8080/",
          "height": 112
        },
        "id": "qyCYIj8vtjJ5",
        "outputId": "91ce8b86-abb8-42b7-9eae-6f03614f22f7"
      },
      "outputs": [
        {
          "data": {
            "text/html": [
              "<div>\n",
              "<style scoped>\n",
              "    .dataframe tbody tr th:only-of-type {\n",
              "        vertical-align: middle;\n",
              "    }\n",
              "\n",
              "    .dataframe tbody tr th {\n",
              "        vertical-align: top;\n",
              "    }\n",
              "\n",
              "    .dataframe thead th {\n",
              "        text-align: right;\n",
              "    }\n",
              "</style>\n",
              "<table border=\"1\" class=\"dataframe\">\n",
              "  <thead>\n",
              "    <tr style=\"text-align: right;\">\n",
              "      <th></th>\n",
              "      <th>RMSE</th>\n",
              "    </tr>\n",
              "  </thead>\n",
              "  <tbody>\n",
              "    <tr>\n",
              "      <th>Linear</th>\n",
              "      <td>212997.700040</td>\n",
              "    </tr>\n",
              "    <tr>\n",
              "      <th>Lasso</th>\n",
              "      <td>224567.601136</td>\n",
              "    </tr>\n",
              "  </tbody>\n",
              "</table>\n",
              "</div>"
            ],
            "text/plain": [
              "                 RMSE\n",
              "Linear  212997.700040\n",
              "Lasso   224567.601136"
            ]
          },
          "execution_count": 44,
          "metadata": {},
          "output_type": "execute_result"
        }
      ],
      "source": [
        "# scaler = MinMaxScaler()\n",
        "\n",
        "\n",
        "rmse_vals = [linearRegression_rmse, lassoCV_rmse]\n",
        "\n",
        "labels = ['Linear','Lasso']\n",
        "\n",
        "rmse_df = pd.Series(rmse_vals, index=labels).to_frame()\n",
        "rmse_df.rename(columns={0: 'RMSE'}, inplace=1)\n",
        "rmse_df"
      ]
    },
    {
      "cell_type": "markdown",
      "metadata": {
        "id": "GRfYTWy5tjJ6"
      },
      "source": [
        "We can also make a plot of actual vs predicted housing prices as before."
      ]
    },
    {
      "cell_type": "code",
      "execution_count": 45,
      "metadata": {
        "ExecuteTime": {
          "end_time": "2021-09-24T17:43:00.445092Z",
          "start_time": "2021-09-24T17:42:59.994556Z"
        },
        "colab": {
          "base_uri": "https://localhost:8080/",
          "height": 404
        },
        "id": "eyo06k66tjJ6",
        "outputId": "b27b985a-608e-48d7-c77d-bf79ec90b6ff"
      },
      "outputs": [
        {
          "data": {
            "image/png": "[encoded data removed]",
            "text/plain": [
              "<Figure size 432x432 with 1 Axes>"
            ]
          },
          "metadata": {
            "needs_background": "light"
          },
          "output_type": "display_data"
        }
      ],
      "source": [
        "f = plt.figure(figsize=(6,6))\n",
        "ax = plt.axes()\n",
        "\n",
        "labels = ['Lasso']\n",
        "\n",
        "models = [lassoCV]\n",
        "\n",
        "for mod, lab in zip(models, labels):\n",
        "    ax.plot(y_test, mod.predict(X_test), \n",
        "             marker='o', ls='', ms=3.0, label=lab)\n",
        "\n",
        "\n",
        "leg = plt.legend(frameon=True)\n",
        "leg.get_frame().set_edgecolor('black')\n",
        "leg.get_frame().set_linewidth(1.0)\n",
        "\n",
        "ax.set(xlabel='Actual Price', \n",
        "       ylabel='Predicted Price', \n",
        "       title='Linear Regression Results');"
      ]
    },
    {
      "cell_type": "markdown",
      "metadata": {
        "id": "E1sgmucHtjJ6"
      },
      "source": [
        "## Question 8\n",
        "\n",
        "Let's explore Stochastic gradient descent in this exercise.  \n",
        "Recall that Linear models in general are sensitive to scaling.\n",
        "However, SGD is *very* sensitive to scaling.  \n",
        "Moreover, a high value of learning rate can cause the algorithm to diverge, whereas a too low value may take too long to converge.\n",
        "\n",
        "* Fit a stochastic gradient descent model without a regularization penalty (the relevant parameter is `penalty`).\n",
        "* Now fit stochastic gradient descent models with each of the three penalties (L2, L1, Elastic Net) using the parameter values determined by cross validation above. \n",
        "* Do not scale the data before fitting the model.  \n",
        "* Compare the results to those obtained without using stochastic gradient descent."
      ]
    },
    {
      "cell_type": "code",
      "execution_count": 46,
      "metadata": {
        "ExecuteTime": {
          "end_time": "2021-09-24T17:43:00.703405Z",
          "start_time": "2021-09-24T17:43:00.447129Z"
        },
        "colab": {
          "base_uri": "https://localhost:8080/",
          "height": 112
        },
        "id": "So4fi2BxtjJ6",
        "outputId": "ec4bd47b-b011-49c7-f5c5-f68b444c5c0b"
      },
      "outputs": [
        {
          "data": {
            "text/html": [
              "<div>\n",
              "<style scoped>\n",
              "    .dataframe tbody tr th:only-of-type {\n",
              "        vertical-align: middle;\n",
              "    }\n",
              "\n",
              "    .dataframe tbody tr th {\n",
              "        vertical-align: top;\n",
              "    }\n",
              "\n",
              "    .dataframe thead th {\n",
              "        text-align: right;\n",
              "    }\n",
              "</style>\n",
              "<table border=\"1\" class=\"dataframe\">\n",
              "  <thead>\n",
              "    <tr style=\"text-align: right;\">\n",
              "      <th></th>\n",
              "      <th>RMSE</th>\n",
              "      <th>RMSE-SGD</th>\n",
              "    </tr>\n",
              "  </thead>\n",
              "  <tbody>\n",
              "    <tr>\n",
              "      <th>Linear</th>\n",
              "      <td>212997.700040</td>\n",
              "      <td>2.240129e+17</td>\n",
              "    </tr>\n",
              "    <tr>\n",
              "      <th>Lasso</th>\n",
              "      <td>224567.601136</td>\n",
              "      <td>1.930659e+18</td>\n",
              "    </tr>\n",
              "  </tbody>\n",
              "</table>\n",
              "</div>"
            ],
            "text/plain": [
              "                 RMSE      RMSE-SGD\n",
              "Linear  212997.700040  2.240129e+17\n",
              "Lasso   224567.601136  1.930659e+18"
            ]
          },
          "execution_count": 46,
          "metadata": {},
          "output_type": "execute_result"
        }
      ],
      "source": [
        "# Import SGDRegressor and prepare the parameters\n",
        "model_parameters_dict = {\n",
        "    'Linear': {'penalty': 'none'},\n",
        "    'Lasso': {'penalty': 'l2',\n",
        "           'alpha': lassoCV.alpha_},\n",
        "    # 'Lasso': {'penalty': 'l2'},\n",
        "    # 'Ridge': {'penalty': 'l1',\n",
        "    #        'alpha': ridgeCV_rmse},\n",
        "    # 'ElasticNet': {'penalty': 'elasticnet', \n",
        "    #                'alpha': elasticNetCV.alpha_,\n",
        "    #                'l1_ratio': elasticNetCV.l1_ratio_}\n",
        "}\n",
        "\n",
        "new_rmses = {}\n",
        "for modellabel, parameters in model_parameters_dict.items():\n",
        "    # following notation passes the dict items as arguments\n",
        "    SGD = SGDRegressor(**parameters)\n",
        "    SGD.fit(X_train_ohc, y_train_ohc)\n",
        "    new_rmses[modellabel] = rmse(y_test_ohc, SGD.predict(X_test_ohc))\n",
        "\n",
        "rmse_df['RMSE-SGD'] = pd.Series(new_rmses)\n",
        "rmse_df"
      ]
    },
    {
      "cell_type": "markdown",
      "metadata": {
        "id": "Rq7QU9TftjJ7"
      },
      "source": [
        "Notice how high the error values are! The algorithm is diverging. This can be due to scaling and/or learning rate being too high. Let's adjust the learning rate and see what happens.\n",
        "\n",
        "* Pass in `eta0=1e-7` when creating the instance of `SGDClassifier`.\n",
        "* Re-compute the errors for all the penalties and compare."
      ]
    },
    {
      "cell_type": "code",
      "execution_count": 47,
      "metadata": {
        "ExecuteTime": {
          "end_time": "2021-09-24T17:43:00.929966Z",
          "start_time": "2021-09-24T17:43:00.705372Z"
        },
        "colab": {
          "base_uri": "https://localhost:8080/",
          "height": 148
        },
        "id": "u5xLQ7TytjJ7",
        "outputId": "c2b1e9e8-c6c6-4946-bc5a-75d2ed4cc48a"
      },
      "outputs": [
        {
          "data": {
            "text/html": [
              "<div>\n",
              "<style scoped>\n",
              "    .dataframe tbody tr th:only-of-type {\n",
              "        vertical-align: middle;\n",
              "    }\n",
              "\n",
              "    .dataframe tbody tr th {\n",
              "        vertical-align: top;\n",
              "    }\n",
              "\n",
              "    .dataframe thead th {\n",
              "        text-align: right;\n",
              "    }\n",
              "</style>\n",
              "<table border=\"1\" class=\"dataframe\">\n",
              "  <thead>\n",
              "    <tr style=\"text-align: right;\">\n",
              "      <th></th>\n",
              "      <th>RMSE</th>\n",
              "      <th>RMSE-SGD</th>\n",
              "      <th>RMSE-SGD-learningrate</th>\n",
              "    </tr>\n",
              "  </thead>\n",
              "  <tbody>\n",
              "    <tr>\n",
              "      <th>Linear</th>\n",
              "      <td>212997.700040</td>\n",
              "      <td>2.240129e+17</td>\n",
              "      <td>5.956907e+11</td>\n",
              "    </tr>\n",
              "    <tr>\n",
              "      <th>Lasso</th>\n",
              "      <td>224567.601136</td>\n",
              "      <td>1.930659e+18</td>\n",
              "      <td>7.260071e+12</td>\n",
              "    </tr>\n",
              "  </tbody>\n",
              "</table>\n",
              "</div>"
            ],
            "text/plain": [
              "                 RMSE      RMSE-SGD  RMSE-SGD-learningrate\n",
              "Linear  212997.700040  2.240129e+17           5.956907e+11\n",
              "Lasso   224567.601136  1.930659e+18           7.260071e+12"
            ]
          },
          "execution_count": 47,
          "metadata": {},
          "output_type": "execute_result"
        }
      ],
      "source": [
        "# Import SGDRegressor and prepare the parameters\n",
        "model_parameters_dict = {\n",
        "    'Linear': {'penalty': 'none'},\n",
        "    'Lasso': {'penalty': 'l2',\n",
        "           'alpha': lassoCV.alpha_},\n",
        "    # 'Ridge': {'penalty': 'l1',\n",
        "    #        'alpha': ridgeCV_rmse},\n",
        "    # 'ElasticNet': {'penalty': 'elasticnet', \n",
        "    #                'alpha': elasticNetCV.alpha_,\n",
        "    #                'l1_ratio': elasticNetCV.l1_ratio_}\n",
        "}\n",
        "\n",
        "new_rmses = {}\n",
        "for modellabel, parameters in model_parameters_dict.items():\n",
        "    # following notation passes the dict items as arguments\n",
        "    SGD = SGDRegressor(eta0=1e-7, **parameters)\n",
        "\n",
        "    SGD.fit(X_train_ohc, y_train)\n",
        "\n",
        "    new_rmses[modellabel] = rmse(y_test, SGD.predict(X_test_ohc))\n",
        "\n",
        "rmse_df['RMSE-SGD-learningrate'] = pd.Series(new_rmses)\n",
        "rmse_df"
      ]
    },
    {
      "cell_type": "markdown",
      "metadata": {
        "id": "TP_mqZ2OtjJ7"
      },
      "source": [
        "Now let's scale our training data and try again.\n",
        "\n",
        "* Fit a `MinMaxScaler` to `X_train` create a variable `X_train_scaled`.\n",
        "* Using the scaler, transform `X_test` and create a variable `X_test_scaled`. \n",
        "* Apply the same versions of SGD to them and compare the results. Don't pass in a eta0 this time."
      ]
    },
    {
      "cell_type": "code",
      "execution_count": 54,
      "metadata": {
        "ExecuteTime": {
          "end_time": "2021-09-24T17:43:01.479966Z",
          "start_time": "2021-09-24T17:43:00.932018Z"
        },
        "colab": {
          "base_uri": "https://localhost:8080/",
          "height": 148
        },
        "id": "duRbn4MAtjJ7",
        "outputId": "b2f8845d-12d5-4356-98dd-7e2f102da72a"
      },
      "outputs": [
        {
          "name": "stdout",
          "output_type": "stream",
          "text": [
            "0.16807 sec\n",
            "0.16862 sec\n"
          ]
        },
        {
          "data": {
            "text/html": [
              "<div>\n",
              "<style scoped>\n",
              "    .dataframe tbody tr th:only-of-type {\n",
              "        vertical-align: middle;\n",
              "    }\n",
              "\n",
              "    .dataframe tbody tr th {\n",
              "        vertical-align: top;\n",
              "    }\n",
              "\n",
              "    .dataframe thead th {\n",
              "        text-align: right;\n",
              "    }\n",
              "</style>\n",
              "<table border=\"1\" class=\"dataframe\">\n",
              "  <thead>\n",
              "    <tr style=\"text-align: right;\">\n",
              "      <th></th>\n",
              "      <th>RMSE</th>\n",
              "      <th>RMSE-SGD</th>\n",
              "      <th>RMSE-SGD-learningrate</th>\n",
              "      <th>RMSE-SGD-scaled</th>\n",
              "    </tr>\n",
              "  </thead>\n",
              "  <tbody>\n",
              "    <tr>\n",
              "      <th>Linear</th>\n",
              "      <td>212997.700040</td>\n",
              "      <td>2.240129e+17</td>\n",
              "      <td>5.956907e+11</td>\n",
              "      <td>226155.635427</td>\n",
              "    </tr>\n",
              "    <tr>\n",
              "      <th>Lasso</th>\n",
              "      <td>224567.601136</td>\n",
              "      <td>1.930659e+18</td>\n",
              "      <td>7.260071e+12</td>\n",
              "      <td>226986.775299</td>\n",
              "    </tr>\n",
              "  </tbody>\n",
              "</table>\n",
              "</div>"
            ],
            "text/plain": [
              "                 RMSE      RMSE-SGD  RMSE-SGD-learningrate  RMSE-SGD-scaled\n",
              "Linear  212997.700040  2.240129e+17           5.956907e+11    226155.635427\n",
              "Lasso   224567.601136  1.930659e+18           7.260071e+12    226986.775299"
            ]
          },
          "execution_count": 54,
          "metadata": {},
          "output_type": "execute_result"
        }
      ],
      "source": [
        "scaler = MinMaxScaler()\n",
        "# scaler = StandardScaler()\n",
        "scaler_start_time = time.time()\n",
        "X_train_scaled = scaler.fit_transform(X_train_ohc)\n",
        "scaler_end_time = time.time()\n",
        "\n",
        "scaler_time = scaler_end_time - scaler_start_time\n",
        "# print(scaler_time)\n",
        "\n",
        "X_test_scaled = scaler.transform(X_test_ohc)\n",
        "\n",
        "new_rmses = {}\n",
        "for modellabel, parameters in model_parameters_dict.items():\n",
        "    # following notation passes the dict items as arguments\n",
        "    SGD = SGDRegressor(**parameters)\n",
        "\n",
        "    startTime = time.time()\n",
        "    SGD.fit(X_train_scaled, y_train)\n",
        "    endTime = time.time()\n",
        "    print(f\"{endTime - startTime + scaler_time:.5f} sec\")\n",
        "\n",
        "    new_rmses[modellabel] = rmse(y_test, SGD.predict(X_test_scaled))\n",
        "\n",
        "rmse_df['RMSE-SGD-scaled'] = pd.Series(new_rmses)\n",
        "rmse_df"
      ]
    },
    {
      "cell_type": "code",
      "execution_count": 52,
      "metadata": {
        "ExecuteTime": {
          "end_time": "2021-09-24T17:43:02.067967Z",
          "start_time": "2021-09-24T17:43:01.481961Z"
        },
        "colab": {
          "base_uri": "https://localhost:8080/",
          "height": 112
        },
        "id": "X4mEMnA9tjJ8",
        "outputId": "2fd13aec-1d4a-43ce-e625-231fd104bd8c"
      },
      "outputs": [
        {
          "data": {
            "text/html": [
              "<div>\n",
              "<style scoped>\n",
              "    .dataframe tbody tr th:only-of-type {\n",
              "        vertical-align: middle;\n",
              "    }\n",
              "\n",
              "    .dataframe tbody tr th {\n",
              "        vertical-align: top;\n",
              "    }\n",
              "\n",
              "    .dataframe thead th {\n",
              "        text-align: right;\n",
              "    }\n",
              "</style>\n",
              "<table border=\"1\" class=\"dataframe\">\n",
              "  <thead>\n",
              "    <tr style=\"text-align: right;\">\n",
              "      <th></th>\n",
              "      <th>RMSE</th>\n",
              "      <th>RMSE-SGD</th>\n",
              "      <th>RMSE-SGD-learningrate</th>\n",
              "      <th>RMSE-SGD-scaled</th>\n",
              "    </tr>\n",
              "  </thead>\n",
              "  <tbody>\n",
              "    <tr>\n",
              "      <th>Linear</th>\n",
              "      <td>212997.700040</td>\n",
              "      <td>2.240129e+17</td>\n",
              "      <td>5.956907e+11</td>\n",
              "      <td>227959.297189</td>\n",
              "    </tr>\n",
              "    <tr>\n",
              "      <th>Lasso</th>\n",
              "      <td>224567.601136</td>\n",
              "      <td>1.930659e+18</td>\n",
              "      <td>7.260071e+12</td>\n",
              "      <td>224964.799314</td>\n",
              "    </tr>\n",
              "  </tbody>\n",
              "</table>\n",
              "</div>"
            ],
            "text/plain": [
              "                 RMSE      RMSE-SGD  RMSE-SGD-learningrate  RMSE-SGD-scaled\n",
              "Linear  212997.700040  2.240129e+17           5.956907e+11    227959.297189\n",
              "Lasso   224567.601136  1.930659e+18           7.260071e+12    224964.799314"
            ]
          },
          "execution_count": 52,
          "metadata": {},
          "output_type": "execute_result"
        }
      ],
      "source": [
        "# scaler = MinMaxScaler()\n",
        "scaler = StandardScaler()\n",
        "X_train_scaled = scaler.fit_transform(X_train_ohc)\n",
        "X_test_scaled = scaler.transform(X_test_ohc)\n",
        "\n",
        "new_rmses = {}\n",
        "for modellabel, parameters in model_parameters_dict.items():\n",
        "    # following notation passes the dict items as arguments\n",
        "    SGD = SGDRegressor(**parameters)\n",
        "    SGD.fit(X_train_scaled, y_train)\n",
        "    new_rmses[modellabel] = rmse(y_test, SGD.predict(X_test_scaled))\n",
        "\n",
        "rmse_df['RMSE-SGD-scaled'] = pd.Series(new_rmses)\n",
        "rmse_df"
      ]
    },
    {
      "cell_type": "code",
      "execution_count": null,
      "metadata": {
        "id": "nCuBPYDVtjJ8"
      },
      "outputs": [],
      "source": []
    }
  ],
  "metadata": {
    "colab": {
      "provenance": []
    },
    "kernelspec": {
      "display_name": "Python 3.9.12 ('base')",
      "language": "python",
      "name": "python3"
    },
    "language_info": {
      "codemirror_mode": {
        "name": "ipython",
        "version": 3
      },
      "file_extension": ".py",
      "mimetype": "text/x-python",
      "name": "python",
      "nbconvert_exporter": "python",
      "pygments_lexer": "ipython3",
      "version": "3.9.12"
    },
    "vscode": {
      "interpreter": {
        "hash": "33ebf16781beddb326621678482082bfb7299678700dffe01ee98be16cda395f"
      }
    }
  },
  "nbformat": 4,
  "nbformat_minor": 0
}
